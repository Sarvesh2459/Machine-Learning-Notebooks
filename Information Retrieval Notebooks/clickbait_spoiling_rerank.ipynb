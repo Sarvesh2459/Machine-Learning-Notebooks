{
  "cells": [
    {
      "cell_type": "markdown",
      "id": "2b673fab",
      "metadata": {
        "id": "2b673fab"
      },
      "source": [
        "# Clickbait spoiling: Rerank"
      ]
    },
    {
      "cell_type": "code",
      "source": [
        "%cd /content"
      ],
      "metadata": {
        "colab": {
          "base_uri": "https://localhost:8080/"
        },
        "id": "91sHklYm4lfN",
        "outputId": "bc819739-f31e-4127-dea3-4c8b28cd20e2"
      },
      "id": "91sHklYm4lfN",
      "execution_count": 68,
      "outputs": [
        {
          "output_type": "stream",
          "name": "stdout",
          "text": [
            "/content\n"
          ]
        }
      ]
    },
    {
      "cell_type": "code",
      "execution_count": 69,
      "id": "bf48c3f3",
      "metadata": {
        "id": "bf48c3f3"
      },
      "outputs": [],
      "source": [
        "import pandas as pd\n",
        "    \n",
        "def load_dataset(file_name):\n",
        "    import json\n",
        "    ret = []\n",
        "    \n",
        "    with open(file_name, encoding = \"utf-8\") as f:\n",
        "        for i in f:\n",
        "            i = eval(i)\n",
        "            query = i['postText']\n",
        "            spoiler = i['spoiler']\n",
        "            paragraphs = i['targetParagraphs']\n",
        "            \n",
        "            if i['tags'][0] == 'multi':\n",
        "                continue\n",
        "                \n",
        "            assert len(query) == 1\n",
        "            query = query[0]\n",
        "\n",
        "            if len(spoiler) != 1:\n",
        "                spoiler = ' '.join(spoiler)\n",
        "            else:\n",
        "                spoiler = spoiler[0]\n",
        "\n",
        "            ret += [{'query': query, 'uuid': i['uuid'], 'paragraphs': paragraphs, 'spoiler': spoiler}]\n",
        "            \n",
        "    return pd.DataFrame(ret)\n",
        "\n",
        "\n",
        "#test_dataset = load_dataset('test.jsonl')\n",
        "train_dataset = load_dataset('train.jsonl')\n",
        "validation_dataset = load_dataset('validation.jsonl')\n",
        "#test_pilot_200 = load_dataset('200_test.jsonl')\n",
        "all_datasets = pd.concat([ train_dataset, validation_dataset])"
      ]
    },
    {
      "cell_type": "markdown",
      "id": "16fc711b",
      "metadata": {
        "id": "16fc711b"
      },
      "source": [
        "# Reranking utilities"
      ]
    },
    {
      "cell_type": "code",
      "source": [
        "import os\n",
        "os.environ['LANG'] = 'en_US.UTF-8'\n"
      ],
      "metadata": {
        "id": "BOUwA749HQoy"
      },
      "id": "BOUwA749HQoy",
      "execution_count": 70,
      "outputs": []
    },
    {
      "cell_type": "code",
      "source": [
        "%cd /content\n",
        "!rm -rf pygaggle && pip uninstall -y pygaggle\n",
        "!git clone  --recursive https://github.com/castorini/pygaggle.git # use master once that branch is merged\n",
        "%cd pygaggle\n",
        "!pip install --editable .\n"
      ],
      "metadata": {
        "colab": {
          "base_uri": "https://localhost:8080/",
          "height": 416
        },
        "id": "1y8xXmEbjOLi",
        "outputId": "48b315c6-fbba-444e-9d32-6384a5253c49"
      },
      "id": "1y8xXmEbjOLi",
      "execution_count": 71,
      "outputs": [
        {
          "output_type": "stream",
          "name": "stdout",
          "text": [
            "/content\n"
          ]
        },
        {
          "output_type": "error",
          "ename": "NotImplementedError",
          "evalue": "ignored",
          "traceback": [
            "\u001b[0;31m---------------------------------------------------------------------------\u001b[0m",
            "\u001b[0;31mNotImplementedError\u001b[0m                       Traceback (most recent call last)",
            "\u001b[0;32m<ipython-input-71-9b72872abaf8>\u001b[0m in \u001b[0;36m<cell line: 2>\u001b[0;34m()\u001b[0m\n\u001b[1;32m      1\u001b[0m \u001b[0mget_ipython\u001b[0m\u001b[0;34m(\u001b[0m\u001b[0;34m)\u001b[0m\u001b[0;34m.\u001b[0m\u001b[0mrun_line_magic\u001b[0m\u001b[0;34m(\u001b[0m\u001b[0;34m'cd'\u001b[0m\u001b[0;34m,\u001b[0m \u001b[0;34m'/content'\u001b[0m\u001b[0;34m)\u001b[0m\u001b[0;34m\u001b[0m\u001b[0;34m\u001b[0m\u001b[0m\n\u001b[0;32m----> 2\u001b[0;31m \u001b[0mget_ipython\u001b[0m\u001b[0;34m(\u001b[0m\u001b[0;34m)\u001b[0m\u001b[0;34m.\u001b[0m\u001b[0msystem\u001b[0m\u001b[0;34m(\u001b[0m\u001b[0;34m'rm -rf pygaggle && pip uninstall -y pygaggle'\u001b[0m\u001b[0;34m)\u001b[0m\u001b[0;34m\u001b[0m\u001b[0;34m\u001b[0m\u001b[0m\n\u001b[0m\u001b[1;32m      3\u001b[0m \u001b[0mget_ipython\u001b[0m\u001b[0;34m(\u001b[0m\u001b[0;34m)\u001b[0m\u001b[0;34m.\u001b[0m\u001b[0msystem\u001b[0m\u001b[0;34m(\u001b[0m\u001b[0;34m'git clone  --recursive https://github.com/castorini/pygaggle.git # use master once that branch is merged'\u001b[0m\u001b[0;34m)\u001b[0m\u001b[0;34m\u001b[0m\u001b[0;34m\u001b[0m\u001b[0m\n\u001b[1;32m      4\u001b[0m \u001b[0mget_ipython\u001b[0m\u001b[0;34m(\u001b[0m\u001b[0;34m)\u001b[0m\u001b[0;34m.\u001b[0m\u001b[0mrun_line_magic\u001b[0m\u001b[0;34m(\u001b[0m\u001b[0;34m'cd'\u001b[0m\u001b[0;34m,\u001b[0m \u001b[0;34m'pygaggle'\u001b[0m\u001b[0;34m)\u001b[0m\u001b[0;34m\u001b[0m\u001b[0;34m\u001b[0m\u001b[0m\n\u001b[1;32m      5\u001b[0m \u001b[0mget_ipython\u001b[0m\u001b[0;34m(\u001b[0m\u001b[0;34m)\u001b[0m\u001b[0;34m.\u001b[0m\u001b[0msystem\u001b[0m\u001b[0;34m(\u001b[0m\u001b[0;34m'pip install --editable .'\u001b[0m\u001b[0;34m)\u001b[0m\u001b[0;34m\u001b[0m\u001b[0;34m\u001b[0m\u001b[0m\n",
            "\u001b[0;32m/usr/local/lib/python3.9/dist-packages/google/colab/_shell.py\u001b[0m in \u001b[0;36msystem\u001b[0;34m(self, *args, **kwargs)\u001b[0m\n\u001b[1;32m     97\u001b[0m       \u001b[0mkwargs\u001b[0m\u001b[0;34m.\u001b[0m\u001b[0mupdate\u001b[0m\u001b[0;34m(\u001b[0m\u001b[0;34m{\u001b[0m\u001b[0;34m'also_return_output'\u001b[0m\u001b[0;34m:\u001b[0m \u001b[0;32mTrue\u001b[0m\u001b[0;34m}\u001b[0m\u001b[0;34m)\u001b[0m\u001b[0;34m\u001b[0m\u001b[0;34m\u001b[0m\u001b[0m\n\u001b[1;32m     98\u001b[0m \u001b[0;34m\u001b[0m\u001b[0m\n\u001b[0;32m---> 99\u001b[0;31m     \u001b[0moutput\u001b[0m \u001b[0;34m=\u001b[0m \u001b[0m_system_commands\u001b[0m\u001b[0;34m.\u001b[0m\u001b[0m_system_compat\u001b[0m\u001b[0;34m(\u001b[0m\u001b[0mself\u001b[0m\u001b[0;34m,\u001b[0m \u001b[0;34m*\u001b[0m\u001b[0margs\u001b[0m\u001b[0;34m,\u001b[0m \u001b[0;34m**\u001b[0m\u001b[0mkwargs\u001b[0m\u001b[0;34m)\u001b[0m  \u001b[0;31m# pylint:disable=protected-access\u001b[0m\u001b[0;34m\u001b[0m\u001b[0;34m\u001b[0m\u001b[0m\n\u001b[0m\u001b[1;32m    100\u001b[0m \u001b[0;34m\u001b[0m\u001b[0m\n\u001b[1;32m    101\u001b[0m     \u001b[0;32mif\u001b[0m \u001b[0mpip_warn\u001b[0m\u001b[0;34m:\u001b[0m\u001b[0;34m\u001b[0m\u001b[0;34m\u001b[0m\u001b[0m\n",
            "\u001b[0;32m/usr/local/lib/python3.9/dist-packages/google/colab/_system_commands.py\u001b[0m in \u001b[0;36m_system_compat\u001b[0;34m(shell, cmd, also_return_output)\u001b[0m\n\u001b[1;32m    451\u001b[0m   \u001b[0;31m# is expected to call this function, thus adding one level of nesting to the\u001b[0m\u001b[0;34m\u001b[0m\u001b[0;34m\u001b[0m\u001b[0m\n\u001b[1;32m    452\u001b[0m   \u001b[0;31m# stack.\u001b[0m\u001b[0;34m\u001b[0m\u001b[0;34m\u001b[0m\u001b[0m\n\u001b[0;32m--> 453\u001b[0;31m   result = _run_command(\n\u001b[0m\u001b[1;32m    454\u001b[0m       \u001b[0mshell\u001b[0m\u001b[0;34m.\u001b[0m\u001b[0mvar_expand\u001b[0m\u001b[0;34m(\u001b[0m\u001b[0mcmd\u001b[0m\u001b[0;34m,\u001b[0m \u001b[0mdepth\u001b[0m\u001b[0;34m=\u001b[0m\u001b[0;36m2\u001b[0m\u001b[0;34m)\u001b[0m\u001b[0;34m,\u001b[0m \u001b[0mclear_streamed_output\u001b[0m\u001b[0;34m=\u001b[0m\u001b[0;32mFalse\u001b[0m\u001b[0;34m\u001b[0m\u001b[0;34m\u001b[0m\u001b[0m\n\u001b[1;32m    455\u001b[0m   )\n",
            "\u001b[0;32m/usr/local/lib/python3.9/dist-packages/google/colab/_system_commands.py\u001b[0m in \u001b[0;36m_run_command\u001b[0;34m(cmd, clear_streamed_output)\u001b[0m\n\u001b[1;32m    165\u001b[0m   \u001b[0mlocale_encoding\u001b[0m \u001b[0;34m=\u001b[0m \u001b[0mlocale\u001b[0m\u001b[0;34m.\u001b[0m\u001b[0mgetpreferredencoding\u001b[0m\u001b[0;34m(\u001b[0m\u001b[0;34m)\u001b[0m\u001b[0;34m\u001b[0m\u001b[0;34m\u001b[0m\u001b[0m\n\u001b[1;32m    166\u001b[0m   \u001b[0;32mif\u001b[0m \u001b[0mlocale_encoding\u001b[0m \u001b[0;34m!=\u001b[0m \u001b[0m_ENCODING\u001b[0m\u001b[0;34m:\u001b[0m\u001b[0;34m\u001b[0m\u001b[0;34m\u001b[0m\u001b[0m\n\u001b[0;32m--> 167\u001b[0;31m     raise NotImplementedError(\n\u001b[0m\u001b[1;32m    168\u001b[0m         \u001b[0;34m'A UTF-8 locale is required. Got {}'\u001b[0m\u001b[0;34m.\u001b[0m\u001b[0mformat\u001b[0m\u001b[0;34m(\u001b[0m\u001b[0mlocale_encoding\u001b[0m\u001b[0;34m)\u001b[0m\u001b[0;34m\u001b[0m\u001b[0;34m\u001b[0m\u001b[0m\n\u001b[1;32m    169\u001b[0m     )\n",
            "\u001b[0;31mNotImplementedError\u001b[0m: A UTF-8 locale is required. Got ANSI_X3.4-1968"
          ]
        }
      ]
    },
    {
      "cell_type": "code",
      "source": [
        "!pip3 install faiss-cpu"
      ],
      "metadata": {
        "id": "jb_6Qb6Y51rz"
      },
      "id": "jb_6Qb6Y51rz",
      "execution_count": null,
      "outputs": []
    },
    {
      "cell_type": "code",
      "execution_count": 72,
      "id": "fc1f147b",
      "metadata": {
        "id": "fc1f147b"
      },
      "outputs": [],
      "source": [
        "from pygaggle.rerank.base import Query, Text\n",
        "import torch\n",
        "from pygaggle.rerank.transformer import MonoT5, MonoBERT\n",
        "from tqdm import tqdm\n",
        "\n",
        "monoT5 = MonoT5()\n",
        "monoBert = MonoBERT()"
      ]
    },
    {
      "cell_type": "code",
      "execution_count": 73,
      "id": "e16fb021",
      "metadata": {
        "id": "e16fb021"
      },
      "outputs": [],
      "source": [
        "def rerank(datapoint, reranker):\n",
        "    passages = datapoint['paragraphs']\n",
        "    passages = zip(range(len(passages)), passages)\n",
        "    documents = [Text(i[1], {'docid': i[0]}, 0) for i in passages]\n",
        "    ret = sorted(reranker.rerank(Query(datapoint['query']), documents), key=lambda i: i.score, reverse=True)\n",
        "\n",
        "    return [{'score': i.score, 'id': i.metadata['docid'], 'text': i.text} for i in ret]\n"
      ]
    },
    {
      "cell_type": "code",
      "execution_count": 74,
      "id": "1e0484ea",
      "metadata": {
        "id": "1e0484ea"
      },
      "outputs": [],
      "source": [
        "def run_reranking(output_dir, model, dataset, ground_truth_file_name):\n",
        "    import json\n",
        "    \n",
        "    with open( 'predictions.json', 'w') as preds, open( 'passage-truth.jsonl', 'w',encoding=\"utf-8\") as passage_truth, open( 'phrase-truth.jsonl', 'w',encoding=\"utf-8\") as phrase_truth, open(  ground_truth_file_name,encoding=\"utf-8\") as f:\n",
        "        for i in f:\n",
        "            #print(i)\n",
        "            i_parsed = eval(i)\n",
        "            #print(i_parsed)\n",
        "            if i_parsed['tags'][0].startswith('passage'):\n",
        "                passage_truth.write(i.strip() + '\\n')\n",
        "            elif i_parsed['tags'][0].startswith('phrase'):\n",
        "                phrase_truth.write(i.strip() + '\\n')\n",
        "        \n",
        "        result = {}\n",
        "        dataset = [i for _, i in dataset.iterrows()]\n",
        "        for i in tqdm(dataset):\n",
        "            result[i['uuid']] = rerank(i, model)\n",
        "\n",
        "        preds.write(json.dumps(result))"
      ]
    },
    {
      "cell_type": "code",
      "execution_count": 80,
      "id": "3d1786bf",
      "metadata": {
        "id": "3d1786bf",
        "outputId": "850993fb-551e-4113-ce7c-35ea5ae96086",
        "colab": {
          "base_uri": "https://localhost:8080/"
        }
      },
      "outputs": [
        {
          "output_type": "stream",
          "name": "stderr",
          "text": [
            "100%|██████████| 3298/3298 [21:23<00:00,  2.57it/s]\n"
          ]
        }
      ],
      "source": [
        "run_reranking('all-passages-retrieval-t5/', monoBert, all_datasets, 'validation.jsonl')"
      ]
    },
    {
      "cell_type": "code",
      "source": [
        "\n",
        "filter = train_dataset[\"uuid\"] == \"0af11f6b-c889-4520-9372-66ba25cb7657\"\n",
        "train_dataset.where(filter)[:1][\"spoiler\"]"
      ],
      "metadata": {
        "colab": {
          "base_uri": "https://localhost:8080/"
        },
        "id": "pIkKrME0wPFx",
        "outputId": "71fdad6c-78f3-4088-9c9f-470ac4690aba"
      },
      "id": "pIkKrME0wPFx",
      "execution_count": 88,
      "outputs": [
        {
          "output_type": "execute_result",
          "data": {
            "text/plain": [
              "0    how about that morning we go throw?\n",
              "Name: spoiler, dtype: object"
            ]
          },
          "metadata": {},
          "execution_count": 88
        }
      ]
    },
    {
      "cell_type": "code",
      "source": [
        "import json\n",
        "with open(\"predictions.json\") as f:\n",
        "  data=json.load(f)\n",
        "out = data[\"0af11f6b-c889-4520-9372-66ba25cb7657\"]\n",
        "out.sort(key = lambda x: x['score'],reverse=True)\n",
        "for i in out[:5]:\n",
        "  print(i[\"score\"],i[\"text\"])"
      ],
      "metadata": {
        "colab": {
          "base_uri": "https://localhost:8080/"
        },
        "id": "BPqiaCCnvYYU",
        "outputId": "9112e93c-c19e-4c12-990b-7e961fb5b361"
      },
      "id": "BPqiaCCnvYYU",
      "execution_count": 83,
      "outputs": [
        {
          "output_type": "stream",
          "name": "stdout",
          "text": [
            "-0.009555554948747158 Welker was one of Brady’s favorite targets for six seasons from 2007 to 2012. It’s understandable him and Brady want to meet with both being in the same area. But Brady typically is all business during football season. Welker probably should have known what he was getting into when reaching out to his buddy.\n",
            "-0.011282924562692642 Welker revealed Friday morning on a Miami radio station that he contacted Brady because he’ll be in town for Sunday’s game between the New England Patriots and Miami Dolphins at Gillette Stadium. It seemed like a perfect opportunity for the two to catch up.\n",
            "-0.012663664296269417 \"That’s the only thing we really have planned,\" Welker said of his upcoming workout with Brady. \"It’s just funny. I’m sitting there trying to have dinner. ‘Hey, get your ass up here and let’s go throw.’ I’m like, ‘Aw jeez, man.’ He’s going to have me running like 2-minute drills in his backyard or something.\"\n",
            "-0.01671535335481167 Maybe Brady will put a good word in for Welker down in Foxboro if the former Patriots wide receiver impresses him enough.\n",
            "-0.01966024935245514 It’ll be just like old times this weekend for Tom Brady and Wes Welker.\n"
          ]
        }
      ]
    },
    {
      "cell_type": "code",
      "execution_count": 89,
      "metadata": {
        "outputId": "85fc25d0-5788-4578-b0c0-d13354feceeb",
        "colab": {
          "base_uri": "https://localhost:8080/"
        },
        "id": "w862RgKWxmd_"
      },
      "outputs": [
        {
          "output_type": "stream",
          "name": "stderr",
          "text": [
            "100%|██████████| 3298/3298 [07:43<00:00,  7.11it/s]\n"
          ]
        }
      ],
      "source": [
        "run_reranking('all-passages-retrieval-t5/', monoT5, all_datasets, 'validation.jsonl')"
      ],
      "id": "w862RgKWxmd_"
    },
    {
      "cell_type": "code",
      "source": [
        "\n",
        "filter = train_dataset[\"uuid\"] == \"0af11f6b-c889-4520-9372-66ba25cb7657\"\n",
        "train_dataset.where(filter)[:1][\"spoiler\"]"
      ],
      "metadata": {
        "colab": {
          "base_uri": "https://localhost:8080/"
        },
        "outputId": "69f35872-6e31-49f9-dccb-1553790db93c",
        "id": "SIjYGAJkxmeA"
      },
      "execution_count": 90,
      "outputs": [
        {
          "output_type": "execute_result",
          "data": {
            "text/plain": [
              "0    how about that morning we go throw?\n",
              "Name: spoiler, dtype: object"
            ]
          },
          "metadata": {},
          "execution_count": 90
        }
      ],
      "id": "SIjYGAJkxmeA"
    },
    {
      "cell_type": "code",
      "source": [
        "import json\n",
        "with open(\"predictions.json\") as f:\n",
        "  data=json.load(f)\n",
        "out = data[\"0af11f6b-c889-4520-9372-66ba25cb7657\"]\n",
        "out.sort(key = lambda x: x['score'],reverse=True)\n",
        "for i in out[:5]:\n",
        "  print(i[\"score\"],i[\"text\"])"
      ],
      "metadata": {
        "colab": {
          "base_uri": "https://localhost:8080/"
        },
        "outputId": "48c7cabe-79d6-4b29-f2ab-15ee9f618748",
        "id": "zskN7A6PxmeA"
      },
      "execution_count": 91,
      "outputs": [
        {
          "output_type": "stream",
          "name": "stdout",
          "text": [
            "-0.01008510123938322 \"That’s the only thing we really have planned,\" Welker said of his upcoming workout with Brady. \"It’s just funny. I’m sitting there trying to have dinner. ‘Hey, get your ass up here and let’s go throw.’ I’m like, ‘Aw jeez, man.’ He’s going to have me running like 2-minute drills in his backyard or something.\"\n",
            "-0.016101330518722534 \"I hit him up to do dinner Saturday night. He’s like, ‘I’m going to be flying in from Ann Arbor later (after the Michigan-Colorado football game), but how about that morning we go throw?’ \" Welker said on WQAM, per The Boston Globe. \"And I’m just sitting there, I’m like, ‘I was just thinking about dinner, but yeah, sure. I’ll get over there early and we can throw a little bit.’ \"\n",
            "-0.018095524981617928 Welker was one of Brady’s favorite targets for six seasons from 2007 to 2012. It’s understandable him and Brady want to meet with both being in the same area. But Brady typically is all business during football season. Welker probably should have known what he was getting into when reaching out to his buddy.\n",
            "-0.03437409549951553 Welker revealed Friday morning on a Miami radio station that he contacted Brady because he’ll be in town for Sunday’s game between the New England Patriots and Miami Dolphins at Gillette Stadium. It seemed like a perfect opportunity for the two to catch up.\n",
            "-0.09132751822471619 Maybe Brady will put a good word in for Welker down in Foxboro if the former Patriots wide receiver impresses him enough.\n"
          ]
        }
      ],
      "id": "zskN7A6PxmeA"
    },
    {
      "cell_type": "markdown",
      "id": "afd16871",
      "metadata": {
        "id": "afd16871"
      },
      "source": [
        "# Sentence Retrieval"
      ]
    },
    {
      "cell_type": "code",
      "execution_count": 92,
      "id": "1b976e57",
      "metadata": {
        "id": "1b976e57",
        "colab": {
          "base_uri": "https://localhost:8080/"
        },
        "outputId": "7093c3b4-1755-460f-a6ed-67065cb1d7db"
      },
      "outputs": [
        {
          "output_type": "stream",
          "name": "stderr",
          "text": [
            "[nltk_data] Downloading package punkt to /root/nltk_data...\n",
            "[nltk_data]   Package punkt is already up-to-date!\n"
          ]
        }
      ],
      "source": [
        "import nltk\n",
        "nltk.download('punkt')\n",
        "\n",
        "def load_dataset(file_name):\n",
        "    from nltk import sent_tokenize\n",
        "    import json\n",
        "    ret = []\n",
        "    \n",
        "    with open(file_name, encoding=\"utf-8\") as f:\n",
        "        for i in f:\n",
        "            i = eval(i)\n",
        "            query = i['postText']\n",
        "            spoiler = i['spoiler']\n",
        "            paragraphs = i['targetParagraphs']\n",
        "            \n",
        "            if i['tags'][0] == 'multi':\n",
        "                continue\n",
        "                \n",
        "            assert len(query) == 1\n",
        "            query = query[0]\n",
        "            \n",
        "            if len(spoiler) != 1:\n",
        "                spoiler = ' '.join(spoiler)\n",
        "            else:\n",
        "                spoiler = spoiler[0]\n",
        "            \n",
        "            sentences = []\n",
        "            for paragraph in paragraphs:\n",
        "                for sentence in sent_tokenize(paragraph):\n",
        "                    sentences += [sentence]\n",
        "            \n",
        "            ret += [{'query': query, 'uuid': i['uuid'], 'paragraphs': sentences, 'spoiler': spoiler}]\n",
        "            \n",
        "    return ret\n",
        "\n",
        "\n",
        "test_sent_dataset = load_dataset('validation.jsonl')\n"
      ]
    },
    {
      "cell_type": "code",
      "execution_count": 93,
      "id": "644a9b73",
      "metadata": {
        "id": "644a9b73"
      },
      "outputs": [],
      "source": [
        "def run_sent_reranking(output_dir, model, ground_truth_file_name):\n",
        "\n",
        "    import json\n",
        "    \n",
        "    with open('predictions.json', 'w') as preds, open( 'passage-truth.jsonl', 'w',encoding=\"utf-8\") as passage_truth, open('phrase-truth.jsonl', 'w',encoding=\"utf-8\") as phrase_truth, open( ground_truth_file_name,encoding=\"utf-8\") as f:\n",
        "        for i in f:\n",
        "            i_parsed = eval(i)\n",
        "            if i_parsed['tags'][0].startswith('passage'):\n",
        "                passage_truth.write(i.strip() + '\\n')\n",
        "            elif i_parsed['tags'][0].startswith('phrase'):\n",
        "                phrase_truth.write(i.strip() + '\\n')\n",
        "    \n",
        "        result = {}\n",
        "        \n",
        "        for i in tqdm(test_sent_dataset):\n",
        "            result[i['uuid']] = rerank(i, model)\n",
        "        \n",
        "        preds.write(json.dumps(result))"
      ]
    },
    {
      "cell_type": "code",
      "execution_count": 94,
      "id": "68270c20",
      "metadata": {
        "id": "68270c20",
        "colab": {
          "base_uri": "https://localhost:8080/"
        },
        "outputId": "ce35a672-42ea-4673-ce59-7a14216aa48b"
      },
      "outputs": [
        {
          "output_type": "stream",
          "name": "stderr",
          "text": [
            "100%|██████████| 657/657 [02:22<00:00,  4.61it/s]\n"
          ]
        }
      ],
      "source": [
        "run_sent_reranking('sentence-retrieval-t5/', monoT5, 'validation.jsonl')"
      ]
    },
    {
      "cell_type": "code",
      "source": [
        "import json\n",
        "with open(\"predictions.json\") as f:\n",
        "  data=json.load(f)\n",
        "out = data[\"a083b244-ea5d-43f9-a61b-26a0b7c5a70e\"]\n",
        "out.sort(key = lambda x: x['score'],reverse=True)\n",
        "for i in out[:5]:\n",
        "  print(i[\"score\"],i[\"text\"])"
      ],
      "metadata": {
        "colab": {
          "base_uri": "https://localhost:8080/"
        },
        "outputId": "eb27f5d8-37f2-444c-a902-fb6db014feec",
        "id": "DN6oF3aWz8va"
      },
      "execution_count": 106,
      "outputs": [
        {
          "output_type": "stream",
          "name": "stdout",
          "text": [
            "-0.047278422862291336 On Friday, the On Friday, the Houston Chronicle made its official endorsement known in an article titled: \"These are unsettling times that require a steady hand: That’s not Donald Trump.\"\n",
            "-0.050259966403245926 The Chronicle is very clear about how it came to its decision, despite The Chronicle is very clear about how it came to its decision, despite endorsing Mitt Romney in the last election.\n",
            "-0.08166395872831345 The Houston Chronicle clearly recognizes the fact that the Republican presidential nominee has sent the Republican party into turmoil.\n",
            "-0.22591888904571533 ‘The Chronicle editorial page does not typically endorse early in an election cycle; we prefer waiting for the campaign to play out and for issues to emerge and be addressed.\n",
            "-0.30013835430145264 One of the largest newspapers in all of Texas, which One of the largest newspapers in all of Texas, which previously endorsed Republican presidential nominee Mitt Romney, has now officially endorsed Democratic presidential nominee Hillary Clinton.\n"
          ]
        }
      ],
      "id": "DN6oF3aWz8va"
    },
    {
      "cell_type": "code",
      "execution_count": 108,
      "id": "450ecab2",
      "metadata": {
        "id": "450ecab2",
        "outputId": "fc260ad2-50f7-44cd-90eb-3bb075c2f108",
        "colab": {
          "base_uri": "https://localhost:8080/"
        }
      },
      "outputs": [
        {
          "output_type": "stream",
          "name": "stderr",
          "text": [
            "100%|██████████| 657/657 [09:11<00:00,  1.19it/s]\n"
          ]
        }
      ],
      "source": [
        "run_sent_reranking('test-200/sentence-retrieval-t5/', monoBert, 'validation.jsonl')"
      ]
    },
    {
      "cell_type": "code",
      "source": [
        "import json\n",
        "with open(\"predictions.json\") as f:\n",
        "  data=json.load(f)\n",
        "out = data[\"a083b244-ea5d-43f9-a61b-26a0b7c5a70e\"]\n",
        "out.sort(key = lambda x: x['score'],reverse=True)\n",
        "for i in out[:5]:\n",
        "  print(i[\"score\"],i[\"text\"])"
      ],
      "metadata": {
        "colab": {
          "base_uri": "https://localhost:8080/"
        },
        "id": "U7COxoRJ1d58",
        "outputId": "13091957-294d-410a-8a72-12caa2d7de5b"
      },
      "id": "U7COxoRJ1d58",
      "execution_count": 111,
      "outputs": [
        {
          "output_type": "stream",
          "name": "stdout",
          "text": [
            "-0.002375758718699217 On Friday, the On Friday, the Houston Chronicle made its official endorsement known in an article titled: \"These are unsettling times that require a steady hand: That’s not Donald Trump.\"\n",
            "-0.005145639646798372 The Houston Chronicle clearly recognizes the fact that the Republican presidential nominee has sent the Republican party into turmoil.\n",
            "-0.015595500357449055 The Chronicle is very clear about how it came to its decision, despite The Chronicle is very clear about how it came to its decision, despite endorsing Mitt Romney in the last election.\n",
            "-0.09569159895181656 ‘The Chronicle editorial page does not typically endorse early in an election cycle; we prefer waiting for the campaign to play out and for issues to emerge and be addressed.\n",
            "-4.493777751922607 One of the largest newspapers in all of Texas, which One of the largest newspapers in all of Texas, which previously endorsed Republican presidential nominee Mitt Romney, has now officially endorsed Democratic presidential nominee Hillary Clinton.\n"
          ]
        }
      ]
    }
  ],
  "metadata": {
    "kernelspec": {
      "display_name": "Python 3",
      "language": "python",
      "name": "python3"
    },
    "language_info": {
      "codemirror_mode": {
        "name": "ipython",
        "version": 3
      },
      "file_extension": ".py",
      "mimetype": "text/x-python",
      "name": "python",
      "nbconvert_exporter": "python",
      "pygments_lexer": "ipython3",
      "version": "3.7.9"
    },
    "colab": {
      "provenance": []
    },
    "accelerator": "GPU",
    "gpuClass": "standard"
  },
  "nbformat": 4,
  "nbformat_minor": 5
}